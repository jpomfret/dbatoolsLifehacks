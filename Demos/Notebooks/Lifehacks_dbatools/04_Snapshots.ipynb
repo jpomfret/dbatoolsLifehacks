{
    "metadata": {
        "kernelspec": {
            "name": "SQL",
            "display_name": "SQL",
            "language": "sql"
        },
        "language_info": {
            "name": "sql",
            "version": ""
        },
        "extensions": {
            "azuredatastudio": {
                "version": 1,
                "views": []
            }
        }
    },
    "nbformat_minor": 2,
    "nbformat": 4,
    "cells": [
        {
            "cell_type": "markdown",
            "source": [
                "# Database Snapshots"
            ],
            "metadata": {
                "azdata_cell_guid": "609b2ee0-f110-48fa-9426-abd8cbd7aa3f"
            },
            "attachments": {}
        },
        {
            "cell_type": "markdown",
            "source": [
                "dbatools makes using database snapshots easier than ever.\n",
                "\n",
                "- Take a snapshot of database\n",
                "- Drop a table or run a rogue update\n",
                "- Get the table back"
            ],
            "metadata": {
                "azdata_cell_guid": "a083527d-cfa0-4d9d-a41c-cec0b2123fd5"
            },
            "attachments": {}
        },
        {
            "cell_type": "markdown",
            "source": [
                "## View our database snapshots\r\n",
                "Database snapshots have a `source_database_id` value that relates to the database they were created from."
            ],
            "metadata": {
                "azdata_cell_guid": "fff0957f-22b4-4d64-8f26-e57615408c4a"
            },
            "attachments": {}
        },
        {
            "cell_type": "code",
            "source": [
                "select name, database_id, source_database_id, is_read_only\r\n",
                "from sys.databases\r\n",
                "where name like 'Northwind%'"
            ],
            "metadata": {
                "azdata_cell_guid": "185f08dd-50f8-4601-85a4-3d5affc29a41",
                "language": "sql"
            },
            "outputs": [],
            "execution_count": null
        },
        {
            "cell_type": "markdown",
            "source": [
                "## View the current state"
            ],
            "metadata": {
                "azdata_cell_guid": "9f9174d4-2671-4545-9032-359637ddfb2b"
            },
            "attachments": {}
        },
        {
            "cell_type": "code",
            "source": [
                "USE Northwind\r\n",
                "\r\n",
                "SELECT TOP 10 EmployeeID, LastName, FirstName, HomePhone\r\n",
                "FROM Employees\r\n",
                "\r\n",
                "SELECT TOP 10 OrderId, ProductId, UnitPrice, Quantity, Discount\r\n",
                "FROM [Order Details]"
            ],
            "metadata": {
                "azdata_cell_guid": "d3d5da41-ce69-4fc3-8836-e4783418e72e",
                "tags": [],
                "language": "sql"
            },
            "outputs": [],
            "execution_count": null
        },
        {
            "cell_type": "markdown",
            "source": [
                "## Time for some fun - Rogue changes"
            ],
            "metadata": {
                "azdata_cell_guid": "d661ba27-2c8a-4565-a7b0-5fc708f59a18"
            }
        },
        {
            "cell_type": "code",
            "source": [
                "USE Northwind\r\n",
                "\r\n",
                "UPDATE Employees\r\n",
                "SET HomePhone = '330-329-6691'\r\n",
                "\r\n",
                "TRUNCATE TABLE [Order Details]"
            ],
            "metadata": {
                "azdata_cell_guid": "fe4fb5b7-95bc-4b0d-afb0-92b9145958bf",
                "language": "sql"
            },
            "outputs": [],
            "execution_count": null
        },
        {
            "cell_type": "markdown",
            "source": [
                "## Uh-oh - my data!"
            ],
            "metadata": {
                "azdata_cell_guid": "5657f722-9c92-4e6f-b05c-c80db4af5697"
            }
        },
        {
            "cell_type": "code",
            "source": [
                "USE Northwind\r\n",
                "\r\n",
                "SELECT TOP 10 EmployeeID, LastName, FirstName, HomePhone\r\n",
                "FROM Employees\r\n",
                "\r\n",
                "SELECT TOP 10 OrderId, ProductId, UnitPrice, Quantity, Discount\r\n",
                "FROM [Order Details]\r\n",
                ""
            ],
            "metadata": {
                "azdata_cell_guid": "cece47d9-fb2c-45fd-ad45-a3442ea51b16",
                "language": "sql"
            },
            "outputs": [],
            "execution_count": null
        },
        {
            "cell_type": "markdown",
            "source": [
                "## Let's Fix this from our snapshot\r\n",
                "We have two options here\r\n",
                "1. Pull certain data out of the snapshot to fix our mistakes\r\n",
                "1. Revert the whole databases to the point in time the snapshot was taken\r\n",
                "\r\n",
                "### Option 1 - Get the data to fix PersonPhone"
            ],
            "metadata": {
                "azdata_cell_guid": "b11f71f8-fd9c-4279-a29e-a1edddc0b241"
            }
        },
        {
            "cell_type": "code",
            "source": [
                "-- Update the data from the table within our snapshot - joining on Primary Key\r\n",
                "UPDATE e \r\n",
                "SET HomePhone = se.HomePhone\r\n",
                "FROM Northwind.dbo.Employees e\r\n",
                "INNER JOIN Northwind_20220616_195638.dbo.Employees se\r\n",
                "    ON e.EmployeeID = se.EmployeeID\r\n",
                "\r\n",
                "-- Check the data\r\n",
                "SELECT TOP 10 EmployeeID, LastName, FirstName, HomePhone\r\n",
                "FROM Northwind.dbo.Employees\r\n",
                ""
            ],
            "metadata": {
                "azdata_cell_guid": "9a9011f7-8fc8-4809-b334-9f8e4e1ef8a0",
                "tags": [],
                "language": "sql"
            },
            "outputs": [],
            "execution_count": null
        },
        {
            "cell_type": "markdown",
            "source": [
                "### Option 2 - Revert to the time the snapshot was taken\r\n",
                "Back to PowerShell..."
            ],
            "metadata": {
                "azdata_cell_guid": "8c235b82-1834-4ff0-9208-746f0b1c1f13"
            }
        },
        {
            "cell_type": "markdown",
            "source": [
                "## View the data again"
            ],
            "metadata": {
                "azdata_cell_guid": "beb2f597-63db-4397-a471-a33d22a0c11d"
            }
        },
        {
            "cell_type": "code",
            "source": [
                "USE Northwind\r\n",
                "\r\n",
                "SELECT TOP 10 EmployeeID, LastName, FirstName, HomePhone\r\n",
                "FROM Employees\r\n",
                "\r\n",
                "SELECT TOP 10 OrderId, ProductId, UnitPrice, Quantity, Discount\r\n",
                "FROM [Order Details]"
            ],
            "metadata": {
                "azdata_cell_guid": "12c32c7b-f9d2-440d-b29f-4c95b5fd7c54",
                "language": "sql"
            },
            "outputs": [],
            "execution_count": null
        }
    ]
}