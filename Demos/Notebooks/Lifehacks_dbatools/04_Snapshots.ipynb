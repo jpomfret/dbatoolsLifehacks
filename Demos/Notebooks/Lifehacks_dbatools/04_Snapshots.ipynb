{
    "metadata": {
        "kernelspec": {
            "name": "SQL",
            "display_name": "SQL",
            "language": "sql"
        },
        "language_info": {
            "name": "sql",
            "version": ""
        },
        "extensions": {
            "azuredatastudio": {
                "version": 1,
                "views": []
            }
        }
    },
    "nbformat_minor": 2,
    "nbformat": 4,
    "cells": [
        {
            "cell_type": "markdown",
            "source": [
                "# Database Snapshots"
            ],
            "metadata": {
                "azdata_cell_guid": "609b2ee0-f110-48fa-9426-abd8cbd7aa3f"
            },
            "attachments": {}
        },
        {
            "cell_type": "markdown",
            "source": [
                "dbatools makes using database snapshots easier than ever.\n",
                "\n",
                "- Take a snapshot of database\n",
                "- Drop a table or run a rogue update\n",
                "- Get the table back"
            ],
            "metadata": {
                "azdata_cell_guid": "a083527d-cfa0-4d9d-a41c-cec0b2123fd5"
            },
            "attachments": {}
        },
        {
            "cell_type": "markdown",
            "source": [
                "## View our database snapshots\r\n",
                "Database snapshots have a `source_database_id` value that relates to the database they were created from."
            ],
            "metadata": {
                "azdata_cell_guid": "fff0957f-22b4-4d64-8f26-e57615408c4a"
            },
            "attachments": {}
        },
        {
            "cell_type": "code",
            "source": [
                "select name, database_id, source_database_id, is_read_only\r\n",
                "from sys.databases\r\n",
                "where name like 'AdventureWorks2017%'"
            ],
            "metadata": {
                "azdata_cell_guid": "185f08dd-50f8-4601-85a4-3d5affc29a41"
            },
            "outputs": [
                {
                    "output_type": "display_data",
                    "data": {
                        "text/html": "(2 rows affected)"
                    },
                    "metadata": {}
                },
                {
                    "output_type": "display_data",
                    "data": {
                        "text/html": "Total execution time: 00:00:00.053"
                    },
                    "metadata": {}
                },
                {
                    "output_type": "execute_result",
                    "metadata": {},
                    "execution_count": 1,
                    "data": {
                        "application/vnd.dataresource+json": {
                            "schema": {
                                "fields": [
                                    {
                                        "name": "name"
                                    },
                                    {
                                        "name": "database_id"
                                    },
                                    {
                                        "name": "source_database_id"
                                    },
                                    {
                                        "name": "is_read_only"
                                    }
                                ]
                            },
                            "data": [
                                {
                                    "0": "AdventureWorks2017",
                                    "1": "5",
                                    "2": "NULL",
                                    "3": "0"
                                },
                                {
                                    "0": "AdventureWorks2017_20211011_230632",
                                    "1": "7",
                                    "2": "5",
                                    "3": "1"
                                }
                            ]
                        },
                        "text/html": [
                            "<table>",
                            "<tr><th>name</th><th>database_id</th><th>source_database_id</th><th>is_read_only</th></tr>",
                            "<tr><td>AdventureWorks2017</td><td>5</td><td>NULL</td><td>0</td></tr>",
                            "<tr><td>AdventureWorks2017_20211011_230632</td><td>7</td><td>5</td><td>1</td></tr>",
                            "</table>"
                        ]
                    }
                }
            ],
            "execution_count": 1
        },
        {
            "cell_type": "markdown",
            "source": [
                "## View the current state"
            ],
            "metadata": {
                "azdata_cell_guid": "9f9174d4-2671-4545-9032-359637ddfb2b"
            },
            "attachments": {}
        },
        {
            "cell_type": "code",
            "source": [
                "USE AdventureWorks2017\r\n",
                "\r\n",
                "SELECT TOP 10 *\r\n",
                "FROM Person.PersonPhone\r\n",
                "\r\n",
                "SELECT TOP 10 *\r\n",
                "FROM Person.Password"
            ],
            "metadata": {
                "azdata_cell_guid": "d3d5da41-ce69-4fc3-8836-e4783418e72e",
                "tags": []
            },
            "outputs": [
                {
                    "output_type": "display_data",
                    "data": {
                        "text/html": "(10 rows affected)"
                    },
                    "metadata": {}
                },
                {
                    "output_type": "display_data",
                    "data": {
                        "text/html": "(10 rows affected)"
                    },
                    "metadata": {}
                },
                {
                    "output_type": "display_data",
                    "data": {
                        "text/html": "Total execution time: 00:00:00.050"
                    },
                    "metadata": {}
                },
                {
                    "output_type": "execute_result",
                    "metadata": {},
                    "execution_count": 2,
                    "data": {
                        "application/vnd.dataresource+json": {
                            "schema": {
                                "fields": [
                                    {
                                        "name": "BusinessEntityID"
                                    },
                                    {
                                        "name": "PasswordHash"
                                    },
                                    {
                                        "name": "PasswordSalt"
                                    },
                                    {
                                        "name": "rowguid"
                                    },
                                    {
                                        "name": "ModifiedDate"
                                    }
                                ]
                            },
                            "data": [
                                {
                                    "0": "1",
                                    "1": "pbFwXWE99vobT6g+vPWFy93NtUU/orrIWafF01hccfM=",
                                    "2": "bE3XiWw=",
                                    "3": "329eacbe-c883-4f48-b8b6-17aa4627efff",
                                    "4": "2009-01-07 00:00:00.000"
                                },
                                {
                                    "0": "2",
                                    "1": "bawRVNrZQYQ05qF05Gz6VLilnviZmrqBReTTAGAudm0=",
                                    "2": "EjJaC3U=",
                                    "3": "a4c82398-7466-4fe6-b9ee-cec34d116f68",
                                    "4": "2008-01-24 00:00:00.000"
                                },
                                {
                                    "0": "3",
                                    "1": "8BUXrZfDqO1IyHCWOYzYmqN1IhTUn3CJMpdx/UCQ3iY=",
                                    "2": "wbPZqMw=",
                                    "3": "ac3f4536-bb2e-41c5-b70d-454be460c1bd",
                                    "4": "2007-11-04 00:00:00.000"
                                },
                                {
                                    "0": "4",
                                    "1": "SjLXpiarHSlz+6AG+H+4QpB/IPRzras/+9q/5Wr7tf8=",
                                    "2": "PwSunQU=",
                                    "3": "b3fa4c24-2e96-477c-a923-0cb0f6fa5c80",
                                    "4": "2007-11-28 00:00:00.000"
                                },
                                {
                                    "0": "5",
                                    "1": "8FYdAiY6gWuBsgjCFdg0UibtsqOcWHf9TyaHIP7+paA=",
                                    "2": "qYhZRiM=",
                                    "3": "c4d13bcf-0209-44c7-ac67-6f817fdd7f16",
                                    "4": "2007-12-30 00:00:00.000"
                                },
                                {
                                    "0": "6",
                                    "1": "u5kbN5n84NRE1h/a+ktdRrXucjgrmfF6wZC4g82rjHM=",
                                    "2": "a9GiLUA=",
                                    "3": "bbe788b9-8d6d-4799-87a7-7b85b6bd67dc",
                                    "4": "2013-12-16 00:00:00.000"
                                },
                                {
                                    "0": "7",
                                    "1": "zSqerln8T8eq3nYHC4Lx4vMuxZaxkDylVwWnP2ZT6QA=",
                                    "2": "13mu8BA=",
                                    "3": "afd3a20a-787b-4069-92db-aee666c02847",
                                    "4": "2009-02-01 00:00:00.000"
                                },
                                {
                                    "0": "8",
                                    "1": "s+FUWADIZzXBKpcbxe4OwL2uiJmjLogJNYXXHvc1X/k=",
                                    "2": "FlCpzTU=",
                                    "3": "4fe51b60-130e-4209-9e67-28dc4d91446c",
                                    "4": "2008-12-22 00:00:00.000"
                                },
                                {
                                    "0": "9",
                                    "1": "fCvCTy3RwzA2LNhhhYUbT7erkb9Au5wyM2q7ReHroV0=",
                                    "2": "FTcZMvQ=",
                                    "3": "99f4f320-f05d-4fa1-bb0d-81c9425422f3",
                                    "4": "2009-01-09 00:00:00.000"
                                },
                                {
                                    "0": "10",
                                    "1": "/8biMrxuAtETGeIuloSrMQHBraZtZ+eU2z5OJ1Fhn6M=",
                                    "2": "K7dMpTY=",
                                    "3": "82f25f0c-5d75-4246-958a-b6df67559d09",
                                    "4": "2009-04-26 00:00:00.000"
                                }
                            ]
                        },
                        "text/html": [
                            "<table>",
                            "<tr><th>BusinessEntityID</th><th>PasswordHash</th><th>PasswordSalt</th><th>rowguid</th><th>ModifiedDate</th></tr>",
                            "<tr><td>1</td><td>pbFwXWE99vobT6g+vPWFy93NtUU/orrIWafF01hccfM=</td><td>bE3XiWw=</td><td>329eacbe-c883-4f48-b8b6-17aa4627efff</td><td>2009-01-07 00:00:00.000</td></tr>",
                            "<tr><td>2</td><td>bawRVNrZQYQ05qF05Gz6VLilnviZmrqBReTTAGAudm0=</td><td>EjJaC3U=</td><td>a4c82398-7466-4fe6-b9ee-cec34d116f68</td><td>2008-01-24 00:00:00.000</td></tr>",
                            "<tr><td>3</td><td>8BUXrZfDqO1IyHCWOYzYmqN1IhTUn3CJMpdx/UCQ3iY=</td><td>wbPZqMw=</td><td>ac3f4536-bb2e-41c5-b70d-454be460c1bd</td><td>2007-11-04 00:00:00.000</td></tr>",
                            "<tr><td>4</td><td>SjLXpiarHSlz+6AG+H+4QpB/IPRzras/+9q/5Wr7tf8=</td><td>PwSunQU=</td><td>b3fa4c24-2e96-477c-a923-0cb0f6fa5c80</td><td>2007-11-28 00:00:00.000</td></tr>",
                            "<tr><td>5</td><td>8FYdAiY6gWuBsgjCFdg0UibtsqOcWHf9TyaHIP7+paA=</td><td>qYhZRiM=</td><td>c4d13bcf-0209-44c7-ac67-6f817fdd7f16</td><td>2007-12-30 00:00:00.000</td></tr>",
                            "<tr><td>6</td><td>u5kbN5n84NRE1h/a+ktdRrXucjgrmfF6wZC4g82rjHM=</td><td>a9GiLUA=</td><td>bbe788b9-8d6d-4799-87a7-7b85b6bd67dc</td><td>2013-12-16 00:00:00.000</td></tr>",
                            "<tr><td>7</td><td>zSqerln8T8eq3nYHC4Lx4vMuxZaxkDylVwWnP2ZT6QA=</td><td>13mu8BA=</td><td>afd3a20a-787b-4069-92db-aee666c02847</td><td>2009-02-01 00:00:00.000</td></tr>",
                            "<tr><td>8</td><td>s+FUWADIZzXBKpcbxe4OwL2uiJmjLogJNYXXHvc1X/k=</td><td>FlCpzTU=</td><td>4fe51b60-130e-4209-9e67-28dc4d91446c</td><td>2008-12-22 00:00:00.000</td></tr>",
                            "<tr><td>9</td><td>fCvCTy3RwzA2LNhhhYUbT7erkb9Au5wyM2q7ReHroV0=</td><td>FTcZMvQ=</td><td>99f4f320-f05d-4fa1-bb0d-81c9425422f3</td><td>2009-01-09 00:00:00.000</td></tr>",
                            "<tr><td>10</td><td>/8biMrxuAtETGeIuloSrMQHBraZtZ+eU2z5OJ1Fhn6M=</td><td>K7dMpTY=</td><td>82f25f0c-5d75-4246-958a-b6df67559d09</td><td>2009-04-26 00:00:00.000</td></tr>",
                            "</table>"
                        ]
                    }
                },
                {
                    "output_type": "execute_result",
                    "metadata": {},
                    "execution_count": 2,
                    "data": {
                        "application/vnd.dataresource+json": {
                            "schema": {
                                "fields": [
                                    {
                                        "name": "BusinessEntityID"
                                    },
                                    {
                                        "name": "PhoneNumber"
                                    },
                                    {
                                        "name": "PhoneNumberTypeID"
                                    },
                                    {
                                        "name": "ModifiedDate"
                                    }
                                ]
                            },
                            "data": [
                                {
                                    "0": "1",
                                    "1": "697-555-0142",
                                    "2": "1",
                                    "3": "2009-01-07 00:00:00.000"
                                },
                                {
                                    "0": "2",
                                    "1": "819-555-0175",
                                    "2": "3",
                                    "3": "2008-01-24 00:00:00.000"
                                },
                                {
                                    "0": "3",
                                    "1": "212-555-0187",
                                    "2": "1",
                                    "3": "2007-11-04 00:00:00.000"
                                },
                                {
                                    "0": "4",
                                    "1": "612-555-0100",
                                    "2": "1",
                                    "3": "2007-11-28 00:00:00.000"
                                },
                                {
                                    "0": "5",
                                    "1": "849-555-0139",
                                    "2": "1",
                                    "3": "2007-12-30 00:00:00.000"
                                },
                                {
                                    "0": "6",
                                    "1": "122-555-0189",
                                    "2": "3",
                                    "3": "2013-12-16 00:00:00.000"
                                },
                                {
                                    "0": "7",
                                    "1": "181-555-0156",
                                    "2": "3",
                                    "3": "2009-02-01 00:00:00.000"
                                },
                                {
                                    "0": "8",
                                    "1": "815-555-0138",
                                    "2": "1",
                                    "3": "2008-12-22 00:00:00.000"
                                },
                                {
                                    "0": "9",
                                    "1": "185-555-0186",
                                    "2": "1",
                                    "3": "2009-01-09 00:00:00.000"
                                },
                                {
                                    "0": "10",
                                    "1": "330-555-2568",
                                    "2": "3",
                                    "3": "2009-04-26 00:00:00.000"
                                }
                            ]
                        },
                        "text/html": [
                            "<table>",
                            "<tr><th>BusinessEntityID</th><th>PhoneNumber</th><th>PhoneNumberTypeID</th><th>ModifiedDate</th></tr>",
                            "<tr><td>1</td><td>697-555-0142</td><td>1</td><td>2009-01-07 00:00:00.000</td></tr>",
                            "<tr><td>2</td><td>819-555-0175</td><td>3</td><td>2008-01-24 00:00:00.000</td></tr>",
                            "<tr><td>3</td><td>212-555-0187</td><td>1</td><td>2007-11-04 00:00:00.000</td></tr>",
                            "<tr><td>4</td><td>612-555-0100</td><td>1</td><td>2007-11-28 00:00:00.000</td></tr>",
                            "<tr><td>5</td><td>849-555-0139</td><td>1</td><td>2007-12-30 00:00:00.000</td></tr>",
                            "<tr><td>6</td><td>122-555-0189</td><td>3</td><td>2013-12-16 00:00:00.000</td></tr>",
                            "<tr><td>7</td><td>181-555-0156</td><td>3</td><td>2009-02-01 00:00:00.000</td></tr>",
                            "<tr><td>8</td><td>815-555-0138</td><td>1</td><td>2008-12-22 00:00:00.000</td></tr>",
                            "<tr><td>9</td><td>185-555-0186</td><td>1</td><td>2009-01-09 00:00:00.000</td></tr>",
                            "<tr><td>10</td><td>330-555-2568</td><td>3</td><td>2009-04-26 00:00:00.000</td></tr>",
                            "</table>"
                        ]
                    }
                }
            ],
            "execution_count": 2
        },
        {
            "cell_type": "markdown",
            "source": [
                "## Time for some fun - Rogue changes"
            ],
            "metadata": {
                "azdata_cell_guid": "d661ba27-2c8a-4565-a7b0-5fc708f59a18"
            }
        },
        {
            "cell_type": "code",
            "source": [
                "Use AdventureWorks2017\r\n",
                "\r\n",
                "DROP TABLE person.PASSWORD\r\n",
                "GO\r\n",
                "\r\n",
                "UPDATE Person.PersonPhone\r\n",
                "SET PhoneNumber = '330-333-3333'"
            ],
            "metadata": {
                "azdata_cell_guid": "fe4fb5b7-95bc-4b0d-afb0-92b9145958bf"
            },
            "outputs": [
                {
                    "output_type": "display_data",
                    "data": {
                        "text/html": "Commands completed successfully."
                    },
                    "metadata": {}
                },
                {
                    "output_type": "display_data",
                    "data": {
                        "text/html": "(19972 rows affected)"
                    },
                    "metadata": {}
                },
                {
                    "output_type": "display_data",
                    "data": {
                        "text/html": "Total execution time: 00:00:02.612"
                    },
                    "metadata": {}
                }
            ],
            "execution_count": 3
        },
        {
            "cell_type": "markdown",
            "source": [
                "## Uh-oh - my data!"
            ],
            "metadata": {
                "azdata_cell_guid": "5657f722-9c92-4e6f-b05c-c80db4af5697"
            }
        },
        {
            "cell_type": "code",
            "source": [
                "USE AdventureWorks2017\r\n",
                "\r\n",
                "SELECT TOP 10 *\r\n",
                "FROM Person.PersonPhone\r\n",
                "\r\n",
                "SELECT TOP 10 *\r\n",
                "FROM Person.Password\r\n",
                "\r\n",
                ""
            ],
            "metadata": {
                "azdata_cell_guid": "cece47d9-fb2c-45fd-ad45-a3442ea51b16"
            },
            "outputs": [
                {
                    "output_type": "display_data",
                    "data": {
                        "text/html": "(10 rows affected)"
                    },
                    "metadata": {}
                },
                {
                    "output_type": "display_data",
                    "data": {
                        "text/html": "Total execution time: 00:00:00.025"
                    },
                    "metadata": {}
                },
                {
                    "output_type": "execute_result",
                    "metadata": {},
                    "execution_count": 4,
                    "data": {
                        "application/vnd.dataresource+json": {
                            "schema": {
                                "fields": [
                                    {
                                        "name": "BusinessEntityID"
                                    },
                                    {
                                        "name": "PhoneNumber"
                                    },
                                    {
                                        "name": "PhoneNumberTypeID"
                                    },
                                    {
                                        "name": "ModifiedDate"
                                    }
                                ]
                            },
                            "data": [
                                {
                                    "0": "1",
                                    "1": "330-333-3333",
                                    "2": "1",
                                    "3": "2009-01-07 00:00:00.000"
                                },
                                {
                                    "0": "2",
                                    "1": "330-333-3333",
                                    "2": "3",
                                    "3": "2008-01-24 00:00:00.000"
                                },
                                {
                                    "0": "3",
                                    "1": "330-333-3333",
                                    "2": "1",
                                    "3": "2007-11-04 00:00:00.000"
                                },
                                {
                                    "0": "4",
                                    "1": "330-333-3333",
                                    "2": "1",
                                    "3": "2007-11-28 00:00:00.000"
                                },
                                {
                                    "0": "5",
                                    "1": "330-333-3333",
                                    "2": "1",
                                    "3": "2007-12-30 00:00:00.000"
                                },
                                {
                                    "0": "6",
                                    "1": "330-333-3333",
                                    "2": "3",
                                    "3": "2013-12-16 00:00:00.000"
                                },
                                {
                                    "0": "7",
                                    "1": "330-333-3333",
                                    "2": "3",
                                    "3": "2009-02-01 00:00:00.000"
                                },
                                {
                                    "0": "8",
                                    "1": "330-333-3333",
                                    "2": "1",
                                    "3": "2008-12-22 00:00:00.000"
                                },
                                {
                                    "0": "9",
                                    "1": "330-333-3333",
                                    "2": "1",
                                    "3": "2009-01-09 00:00:00.000"
                                },
                                {
                                    "0": "10",
                                    "1": "330-333-3333",
                                    "2": "3",
                                    "3": "2009-04-26 00:00:00.000"
                                }
                            ]
                        },
                        "text/html": [
                            "<table>",
                            "<tr><th>BusinessEntityID</th><th>PhoneNumber</th><th>PhoneNumberTypeID</th><th>ModifiedDate</th></tr>",
                            "<tr><td>1</td><td>330-333-3333</td><td>1</td><td>2009-01-07 00:00:00.000</td></tr>",
                            "<tr><td>2</td><td>330-333-3333</td><td>3</td><td>2008-01-24 00:00:00.000</td></tr>",
                            "<tr><td>3</td><td>330-333-3333</td><td>1</td><td>2007-11-04 00:00:00.000</td></tr>",
                            "<tr><td>4</td><td>330-333-3333</td><td>1</td><td>2007-11-28 00:00:00.000</td></tr>",
                            "<tr><td>5</td><td>330-333-3333</td><td>1</td><td>2007-12-30 00:00:00.000</td></tr>",
                            "<tr><td>6</td><td>330-333-3333</td><td>3</td><td>2013-12-16 00:00:00.000</td></tr>",
                            "<tr><td>7</td><td>330-333-3333</td><td>3</td><td>2009-02-01 00:00:00.000</td></tr>",
                            "<tr><td>8</td><td>330-333-3333</td><td>1</td><td>2008-12-22 00:00:00.000</td></tr>",
                            "<tr><td>9</td><td>330-333-3333</td><td>1</td><td>2009-01-09 00:00:00.000</td></tr>",
                            "<tr><td>10</td><td>330-333-3333</td><td>3</td><td>2009-04-26 00:00:00.000</td></tr>",
                            "</table>"
                        ]
                    }
                },
                {
                    "output_type": "error",
                    "evalue": "Msg 208, Level 16, State 1, Line 6\r\nInvalid object name 'Person.Password'.",
                    "ename": "",
                    "traceback": []
                }
            ],
            "execution_count": 4
        },
        {
            "cell_type": "markdown",
            "source": [
                "## Let's Fix this from our snapshot\r\n",
                "We have two options here\r\n",
                "1. Pull certain data out of the snapshot to fix our mistakes\r\n",
                "1. Revert the whole databases to the point in time the snapshot was taken\r\n",
                "\r\n",
                "### Option 1 - Get the data to fix PersonPhone"
            ],
            "metadata": {
                "azdata_cell_guid": "b11f71f8-fd9c-4279-a29e-a1edddc0b241"
            }
        },
        {
            "cell_type": "code",
            "source": [
                "-- Clear out the data\r\n",
                "DELETE \r\n",
                "FROM AdventureWorks2017.Person.PersonPhone\r\n",
                "\r\n",
                "-- Insert the data from the table within our snapshot\r\n",
                "INSERT INTO Person.PersonPhone\r\n",
                "SELECT *\r\n",
                "FROM AdventureWorks2017_20211007_141350.Person.PersonPhone\r\n",
                "\r\n",
                "-- Check the data\r\n",
                "SELECT TOP 10 * \r\n",
                "FROM AdventureWorks2017.Person.PersonPhone\r\n",
                ""
            ],
            "metadata": {
                "azdata_cell_guid": "9a9011f7-8fc8-4809-b334-9f8e4e1ef8a0",
                "tags": []
            },
            "outputs": [],
            "execution_count": null
        },
        {
            "cell_type": "markdown",
            "source": [
                "### Option 2 - Revert to the time the snapshot was taken\r\n",
                "Back to PowerShell..."
            ],
            "metadata": {
                "azdata_cell_guid": "8c235b82-1834-4ff0-9208-746f0b1c1f13"
            }
        },
        {
            "cell_type": "markdown",
            "source": [
                "## View the data again"
            ],
            "metadata": {
                "azdata_cell_guid": "beb2f597-63db-4397-a471-a33d22a0c11d"
            }
        },
        {
            "cell_type": "code",
            "source": [
                "USE AdventureWorks2017\r\n",
                "\r\n",
                "SELECT TOP 10 *\r\n",
                "FROM Person.PersonPhone\r\n",
                "\r\n",
                "SELECT TOP 10 *\r\n",
                "FROM Person.Password"
            ],
            "metadata": {
                "azdata_cell_guid": "12c32c7b-f9d2-440d-b29f-4c95b5fd7c54"
            },
            "outputs": [],
            "execution_count": null
        }
    ]
}