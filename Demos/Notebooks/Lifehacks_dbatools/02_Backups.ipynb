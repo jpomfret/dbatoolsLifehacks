{
    "metadata": {
        "kernelspec": {
            "name": "SQL",
            "display_name": "SQL",
            "language": "sql"
        },
        "language_info": {
            "name": "sql",
            "version": ""
        }
    },
    "nbformat_minor": 2,
    "nbformat": 4,
    "cells": [
        {
            "cell_type": "markdown",
            "source": [
                "# 02 - Test Your Backups"
            ],
            "metadata": {
                "azdata_cell_guid": "7c460e1c-48f6-481f-b0f7-66da69836e7d"
            }
        },
        {
            "cell_type": "markdown",
            "source": [
                "Record your test restore results straight into a SQL Server table"
            ],
            "metadata": {
                "azdata_cell_guid": "ee7a73d1-dd4c-4899-bc1e-7dcfbb238e20"
            }
        },
        {
            "cell_type": "code",
            "source": [
                "Use DatabaseAdmin\r\n",
                "\r\n",
                "Select *\r\n",
                "From TestRestore"
            ],
            "metadata": {
                "azdata_cell_guid": "71247727-ed46-4c48-a196-7b6a99cb4ece"
            },
            "outputs": [],
            "execution_count": 2
        },
        {
            "cell_type": "markdown",
            "source": [
                "You can do this daily/weekly/etc. and build up history\r\n",
                ""
            ],
            "metadata": {
                "azdata_cell_guid": "19f541a3-af44-405a-9c06-43aeea709ab9"
            }
        },
        {
            "cell_type": "code",
            "source": [
                "Use DatabaseAdmin\n",
                "\n",
                "Select *\n",
                "From TestRestore"
            ],
            "metadata": {
                "azdata_cell_guid": "d745cb4b-766a-40a5-9e57-703420e33b7b"
            },
            "outputs": [],
            "execution_count": 3
        }
    ]
}